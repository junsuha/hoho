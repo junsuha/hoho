{
 "cells": [
  {
   "cell_type": "code",
   "execution_count": 1,
   "metadata": {},
   "outputs": [
    {
     "name": "stdout",
     "output_type": "stream",
     "text": [
      "(25000,)\n",
      "(25000, 1)\n",
      "<START> this film was just brilliant casting <UNK>\n"
     ]
    }
   ],
   "source": [
    "import numpy as np\n",
    "from tensorflow.keras.datasets import imdb\n",
    "import tensorflow as tf\n",
    "\n",
    "# Load the integer sequence the IMDB dataset with Keras.\n",
    "index_offset = 3  # word index offset\n",
    "(x_train, y_train), (x_test, y_test) = imdb.load_data(num_words=1000,\n",
    "                                                      index_from=index_offset)\n",
    "y_train = y_train.reshape(-1, 1)\n",
    "y_test = y_test.reshape(-1, 1)\n",
    "# Prepare the dictionary of index to word.\n",
    "word_to_id = imdb.get_word_index()\n",
    "word_to_id = {k: (v + index_offset) for k, v in word_to_id.items()}\n",
    "word_to_id[\"<PAD>\"] = 0\n",
    "word_to_id[\"<START>\"] = 1\n",
    "word_to_id[\"<UNK>\"] = 2\n",
    "id_to_word = {value: key for key, value in word_to_id.items()}\n",
    "# Convert the word indices to words.\n",
    "x_train = list(map(lambda sentence: ' '.join(\n",
    "    id_to_word[i] for i in sentence), x_train))\n",
    "x_test = list(map(lambda sentence: ' '.join(\n",
    "    id_to_word[i] for i in sentence), x_test))\n",
    "x_train = np.array(x_train, dtype=np.str)\n",
    "x_test = np.array(x_test, dtype=np.str)\n",
    "print(x_train.shape)  # (25000,)\n",
    "print(y_train.shape)  # (25000, 1)\n",
    "print(x_train[0][:50])  # <START> this film was just brilliant casting <UNK>"
   ]
  },
  {
   "cell_type": "code",
   "execution_count": 1,
   "metadata": {},
   "outputs": [],
   "source": [
    "import time\n",
    "import math\n",
    "import numpy as np\n",
    "import matplotlib.pyplot as plt\n",
    "from scipy.stats import pearsonr\n",
    "import random\n",
    "import pandas as pd\n",
    "import os\n",
    "Drugdata = []\n",
    "druganwser = []\n",
    "EPAdata = []\n",
    "epaanwser = []\n",
    "with open(\"../logP_labels.smi\", \"r\") as EPA:\n",
    "    with open(\"../alogptest.csv\", \"r\") as DRUG:\n",
    "        dlines = DRUG.readlines()\n",
    "        Elines = EPA.readlines()\n",
    "        for dline in dlines:\n",
    "            dsl = dline.split()\n",
    "            Drugdata.append(\" \".join(dsl[0]))\n",
    "            druganwser.append(dsl[1])\n",
    "        for Eline in Elines:\n",
    "            Esl = Eline.split()\n",
    "            EPAdata.append(\" \".join(Esl[0]))\n",
    "            epaanwser.append(Esl[1])\n",
    "\n",
    "\n",
    "x_train = np.array(EPAdata, dtype=np.str)\n",
    "y_train = np.array(epaanwser, dtype=np.str)\n",
    "x_test = np.array(Drugdata, dtype=np.str)\n",
    "y_test = np.array(druganwser, dtype=np.str)\n",
    "y_train = y_train.reshape(-1, 1)\n",
    "y_test = y_test.reshape(-1, 1)\n",
    "MAX_LENGTH = 400\n",
    "SOS_token = 1\n",
    "EOS_token = 2\n",
    "PAD_token = 0\n",
    "\n",
    "\n",
    "class Lang:\n",
    "    def __init__(self, name):\n",
    "        self.name = name\n",
    "        self.word2index = {}\n",
    "        self.word2count = {}\n",
    "        self.index2word = {0: \"PAD\", 1: \"SOS\", 2: \"EOS\"}\n",
    "        self.n_words = 3  # PAD 포함\n",
    "        \n",
    "    def addSentence(self, sentence):\n",
    "        for word in sentence.split(' '):\n",
    "            self.addWord(word)\n",
    "\n",
    "    def addWord(self, word):\n",
    "        if word not in self.word2index:\n",
    "            self.word2index[word] = self.n_words\n",
    "            self.word2count[word] = 1\n",
    "            self.index2word[self.n_words] = word\n",
    "\n",
    "            self.n_words += 1\n",
    "        else:\n",
    "            self.word2count[word] += 1\n",
    "\n",
    "\n",
    "EPAlang = Lang(\"EPA\")\n",
    "Druglang = Lang(\"Drug\")\n",
    "E = []\n",
    "D = []\n",
    "\n",
    "\n",
    "def indexesFromSentence(lang, sentence):\n",
    "    return [lang.word2index[word] for word in sentence.split(' ')]\n",
    "\n",
    "\n",
    "def tensorFromSentence_encond(lang, sentence):\n",
    "    indexes = indexesFromSentence(lang, sentence)\n",
    "    while len(indexes) >= MAX_LENGTH-1:\n",
    "        del indexes[MAX_LENGTH - 2]\n",
    "    \n",
    "    indexes.append(EOS_token)\n",
    "    while len(indexes) < MAX_LENGTH:\n",
    "        indexes.append(PAD_token)\n",
    "    return indexes\n",
    "\n",
    "\n",
    "def tensorsFromPair(EP):\n",
    "    input_tensor = tensorFromSentence_encond(EPAlang, EP)\n",
    "    return input_tensor\n",
    "\n",
    "\n",
    "for EP in x_train:\n",
    "    EPAlang.addSentence(EP)\n",
    "    Druglang.addSentence(EP)\n",
    "    ab = tensorsFromPair(EP)\n",
    "    a = [str(ab[i]) for i in range(len(ab))]\n",
    "    E.append(\" \".join(a))\n",
    "for Dru in x_test:\n",
    "    EPAlang.addSentence(Dru)\n",
    "    Druglang.addSentence(Dru)\n",
    "    ab = tensorsFromPair(Dru)\n",
    "    a = [str(ab[i]) for i in range(len(ab))]\n",
    "    D.append(\" \".join(a))"
   ]
  },
  {
   "cell_type": "code",
   "execution_count": 6,
   "metadata": {},
   "outputs": [],
   "source": [
    "import tensorflow as tf\n",
    "def correlation_coefficient(y_true, y_pred):\n",
    "    pearson_r, update_op = tf.contrib.metrics.streaming_pearson_correlation(y_pred, y_true)\n",
    "    # find all variables created for this metric\n",
    "    metric_vars = [i for i in tf.local_variables() if 'correlation_coefficient' in i.name.split('/')[1]]\n",
    "\n",
    "    # Add metric variables to GLOBAL_VARIABLES collection.\n",
    "    # They will be initialized for new session.\n",
    "    for v in metric_vars:\n",
    "        tf.add_to_collection(tf.GraphKeys.GLOBAL_VARIABLES, v)\n",
    "\n",
    "    # force to update metric values\n",
    "    with tf.control_dependencies([update_op]):\n",
    "        pearson_r = tf.identity(pearson_r)\n",
    "        return pearson_r"
   ]
  },
  {
   "cell_type": "code",
   "execution_count": 2,
   "metadata": {},
   "outputs": [
    {
     "name": "stdout",
     "output_type": "stream",
     "text": [
      "['3 3 4 3 3 5 3 6 3 3 3 7 8 3 3 9 8 10 11 3 8 3 3 7 9 3 11 3 6 9 12 11 3 9 10 11 3 3 5 9 3 11 3 4 9 10 11 3 9 8 10 11 3 10 2 0 0 0 0 0 0 0 0 0 0 0 0 0 0 0 0 0 0 0 0 0 0 0 0 0 0 0 0 0 0 0 0 0 0 0 0 0 0 0 0 0 0 0 0 0 0 0 0 0 0 0 0 0 0 0 0 0 0 0 0 0 0 0 0 0 0 0 0 0 0 0 0 0 0 0 0 0 0 0 0 0 0 0 0 0 0 0 0 0 0 0 0 0 0 0 0 0 0 0 0 0 0 0 0 0 0 0 0 0 0 0 0 0 0 0 0 0 0 0 0 0 0 0 0 0 0 0 0 0 0 0 0 0 0 0 0 0 0 0 0 0 0 0 0 0 0 0 0 0 0 0 0 0 0 0 0 0 0 0 0 0 0 0 0 0 0 0 0 0 0 0 0 0 0 0 0 0 0 0 0 0 0 0 0 0 0 0 0 0 0 0 0 0 0 0 0 0 0 0 0 0 0 0 0 0 0 0 0 0 0 0 0 0 0 0 0 0 0 0 0 0 0 0 0 0 0 0 0 0 0 0 0 0 0 0 0 0 0 0 0 0 0 0 0 0 0 0 0 0 0 0 0 0 0 0 0 0 0 0 0 0 0 0 0 0 0 0 0 0 0 0 0 0 0 0 0 0 0 0 0 0 0 0 0 0 0 0 0 0 0 0 0 0 0 0 0 0 0 0 0 0 0 0 0 0 0 0 0 0 0 0 0 0 0 0 0 0 0 0 0 0 0 0 0 0 0 0 0 0 0 0 0 0 0 0 0 0 0 0 0 0 0 0 0 0'\n",
      " '3 3 9 8 10 11 10 3 3 9 8 10 11 3 4 9 10 11 3 3 3 5 3 6 3 3 3 7 8 3 3 9 8 10 11 3 3 3 7 9 3 11 3 6 3 9 10 11 3 3 5 4 3 2 0 0 0 0 0 0 0 0 0 0 0 0 0 0 0 0 0 0 0 0 0 0 0 0 0 0 0 0 0 0 0 0 0 0 0 0 0 0 0 0 0 0 0 0 0 0 0 0 0 0 0 0 0 0 0 0 0 0 0 0 0 0 0 0 0 0 0 0 0 0 0 0 0 0 0 0 0 0 0 0 0 0 0 0 0 0 0 0 0 0 0 0 0 0 0 0 0 0 0 0 0 0 0 0 0 0 0 0 0 0 0 0 0 0 0 0 0 0 0 0 0 0 0 0 0 0 0 0 0 0 0 0 0 0 0 0 0 0 0 0 0 0 0 0 0 0 0 0 0 0 0 0 0 0 0 0 0 0 0 0 0 0 0 0 0 0 0 0 0 0 0 0 0 0 0 0 0 0 0 0 0 0 0 0 0 0 0 0 0 0 0 0 0 0 0 0 0 0 0 0 0 0 0 0 0 0 0 0 0 0 0 0 0 0 0 0 0 0 0 0 0 0 0 0 0 0 0 0 0 0 0 0 0 0 0 0 0 0 0 0 0 0 0 0 0 0 0 0 0 0 0 0 0 0 0 0 0 0 0 0 0 0 0 0 0 0 0 0 0 0 0 0 0 0 0 0 0 0 0 0 0 0 0 0 0 0 0 0 0 0 0 0 0 0 0 0 0 0 0 0 0 0 0 0 0 0 0 0 0 0 0 0 0 0 0 0 0 0 0 0 0 0 0 0 0 0 0 0 0 0 0 0 0 0 0 0 0 0 0 0 0 0 0 0 0 0'\n",
      " '3 3 9 8 10 11 10 3 3 9 8 10 11 3 4 9 10 11 3 3 3 5 3 6 3 3 3 7 8 3 3 9 8 10 11 3 3 3 7 9 3 11 3 6 3 9 8 10 11 3 3 5 4 3 2 0 0 0 0 0 0 0 0 0 0 0 0 0 0 0 0 0 0 0 0 0 0 0 0 0 0 0 0 0 0 0 0 0 0 0 0 0 0 0 0 0 0 0 0 0 0 0 0 0 0 0 0 0 0 0 0 0 0 0 0 0 0 0 0 0 0 0 0 0 0 0 0 0 0 0 0 0 0 0 0 0 0 0 0 0 0 0 0 0 0 0 0 0 0 0 0 0 0 0 0 0 0 0 0 0 0 0 0 0 0 0 0 0 0 0 0 0 0 0 0 0 0 0 0 0 0 0 0 0 0 0 0 0 0 0 0 0 0 0 0 0 0 0 0 0 0 0 0 0 0 0 0 0 0 0 0 0 0 0 0 0 0 0 0 0 0 0 0 0 0 0 0 0 0 0 0 0 0 0 0 0 0 0 0 0 0 0 0 0 0 0 0 0 0 0 0 0 0 0 0 0 0 0 0 0 0 0 0 0 0 0 0 0 0 0 0 0 0 0 0 0 0 0 0 0 0 0 0 0 0 0 0 0 0 0 0 0 0 0 0 0 0 0 0 0 0 0 0 0 0 0 0 0 0 0 0 0 0 0 0 0 0 0 0 0 0 0 0 0 0 0 0 0 0 0 0 0 0 0 0 0 0 0 0 0 0 0 0 0 0 0 0 0 0 0 0 0 0 0 0 0 0 0 0 0 0 0 0 0 0 0 0 0 0 0 0 0 0 0 0 0 0 0 0 0 0 0 0 0 0 0 0 0 0 0 0 0 0 0 0 0 0 0 0 0'\n",
      " ...\n",
      " '21 8 3 8 14 3 3 3 3 3 3 3 3 13 4 13 13 13 13 13 4 2 0 0 0 0 0 0 0 0 0 0 0 0 0 0 0 0 0 0 0 0 0 0 0 0 0 0 0 0 0 0 0 0 0 0 0 0 0 0 0 0 0 0 0 0 0 0 0 0 0 0 0 0 0 0 0 0 0 0 0 0 0 0 0 0 0 0 0 0 0 0 0 0 0 0 0 0 0 0 0 0 0 0 0 0 0 0 0 0 0 0 0 0 0 0 0 0 0 0 0 0 0 0 0 0 0 0 0 0 0 0 0 0 0 0 0 0 0 0 0 0 0 0 0 0 0 0 0 0 0 0 0 0 0 0 0 0 0 0 0 0 0 0 0 0 0 0 0 0 0 0 0 0 0 0 0 0 0 0 0 0 0 0 0 0 0 0 0 0 0 0 0 0 0 0 0 0 0 0 0 0 0 0 0 0 0 0 0 0 0 0 0 0 0 0 0 0 0 0 0 0 0 0 0 0 0 0 0 0 0 0 0 0 0 0 0 0 0 0 0 0 0 0 0 0 0 0 0 0 0 0 0 0 0 0 0 0 0 0 0 0 0 0 0 0 0 0 0 0 0 0 0 0 0 0 0 0 0 0 0 0 0 0 0 0 0 0 0 0 0 0 0 0 0 0 0 0 0 0 0 0 0 0 0 0 0 0 0 0 0 0 0 0 0 0 0 0 0 0 0 0 0 0 0 0 0 0 0 0 0 0 0 0 0 0 0 0 0 0 0 0 0 0 0 0 0 0 0 0 0 0 0 0 0 0 0 0 0 0 0 0 0 0 0 0 0 0 0 0 0 0 0 0 0 0 0 0 0 0 0 0 0 0 0 0 0 0 0 0 0 0 0 0 0 0 0 0 0 0'\n",
      " '21 8 13 4 17 18 19 20 18 13 9 3 18 5 13 13 13 6 13 13 13 13 13 6 5 11 18 4 26 13 4 13 13 13 13 13 4 2 0 0 0 0 0 0 0 0 0 0 0 0 0 0 0 0 0 0 0 0 0 0 0 0 0 0 0 0 0 0 0 0 0 0 0 0 0 0 0 0 0 0 0 0 0 0 0 0 0 0 0 0 0 0 0 0 0 0 0 0 0 0 0 0 0 0 0 0 0 0 0 0 0 0 0 0 0 0 0 0 0 0 0 0 0 0 0 0 0 0 0 0 0 0 0 0 0 0 0 0 0 0 0 0 0 0 0 0 0 0 0 0 0 0 0 0 0 0 0 0 0 0 0 0 0 0 0 0 0 0 0 0 0 0 0 0 0 0 0 0 0 0 0 0 0 0 0 0 0 0 0 0 0 0 0 0 0 0 0 0 0 0 0 0 0 0 0 0 0 0 0 0 0 0 0 0 0 0 0 0 0 0 0 0 0 0 0 0 0 0 0 0 0 0 0 0 0 0 0 0 0 0 0 0 0 0 0 0 0 0 0 0 0 0 0 0 0 0 0 0 0 0 0 0 0 0 0 0 0 0 0 0 0 0 0 0 0 0 0 0 0 0 0 0 0 0 0 0 0 0 0 0 0 0 0 0 0 0 0 0 0 0 0 0 0 0 0 0 0 0 0 0 0 0 0 0 0 0 0 0 0 0 0 0 0 0 0 0 0 0 0 0 0 0 0 0 0 0 0 0 0 0 0 0 0 0 0 0 0 0 0 0 0 0 0 0 0 0 0 0 0 0 0 0 0 0 0 0 0 0 0 0 0 0 0 0 0 0 0 0 0 0 0 0 0 0 0 0 0 0 0 0 0 0 0 0 0 0 0 0 0 0'\n",
      " '14 8 17 14 23 20 8 14 3 8 3 13 4 13 13 13 9 17 14 23 20 9 8 10 11 17 10 26 20 11 28 4 2 0 0 0 0 0 0 0 0 0 0 0 0 0 0 0 0 0 0 0 0 0 0 0 0 0 0 0 0 0 0 0 0 0 0 0 0 0 0 0 0 0 0 0 0 0 0 0 0 0 0 0 0 0 0 0 0 0 0 0 0 0 0 0 0 0 0 0 0 0 0 0 0 0 0 0 0 0 0 0 0 0 0 0 0 0 0 0 0 0 0 0 0 0 0 0 0 0 0 0 0 0 0 0 0 0 0 0 0 0 0 0 0 0 0 0 0 0 0 0 0 0 0 0 0 0 0 0 0 0 0 0 0 0 0 0 0 0 0 0 0 0 0 0 0 0 0 0 0 0 0 0 0 0 0 0 0 0 0 0 0 0 0 0 0 0 0 0 0 0 0 0 0 0 0 0 0 0 0 0 0 0 0 0 0 0 0 0 0 0 0 0 0 0 0 0 0 0 0 0 0 0 0 0 0 0 0 0 0 0 0 0 0 0 0 0 0 0 0 0 0 0 0 0 0 0 0 0 0 0 0 0 0 0 0 0 0 0 0 0 0 0 0 0 0 0 0 0 0 0 0 0 0 0 0 0 0 0 0 0 0 0 0 0 0 0 0 0 0 0 0 0 0 0 0 0 0 0 0 0 0 0 0 0 0 0 0 0 0 0 0 0 0 0 0 0 0 0 0 0 0 0 0 0 0 0 0 0 0 0 0 0 0 0 0 0 0 0 0 0 0 0 0 0 0 0 0 0 0 0 0 0 0 0 0 0 0 0 0 0 0 0 0 0 0 0 0 0 0 0 0 0 0 0 0 0 0 0 0 0 0 0 0 0 0 0 0 0']\n"
     ]
    }
   ],
   "source": [
    "\n",
    "x_train = np.array(E, dtype=np.str)\n",
    "x_test = np.array(D, dtype=np.str)\n",
    "\n",
    "print(x_train)"
   ]
  },
  {
   "cell_type": "code",
   "execution_count": 7,
   "metadata": {},
   "outputs": [
    {
     "name": "stdout",
     "output_type": "stream",
     "text": [
      "INFO:tensorflow:Reloading Oracle from existing project ./text_regressor/oracle.json\n",
      "INFO:tensorflow:Reloading Tuner from ./text_regressor/tuner0.json\n",
      "INFO:tensorflow:Oracle triggered exit\n"
     ]
    },
    {
     "name": "stderr",
     "output_type": "stream",
     "text": [
      "Traceback (most recent call last):\n",
      "  File \"/home/junsu/anaconda3/envs/autokeras/lib/python3.7/site-packages/kerastuner/engine/hypermodel.py\", line 105, in build\n",
      "    model = self.hypermodel.build(hp)\n",
      "  File \"/home/junsu/anaconda3/envs/autokeras/lib/python3.7/site-packages/kerastuner/engine/hypermodel.py\", line 65, in _build_wrapper\n",
      "    return self._build(hp, *args, **kwargs)\n",
      "  File \"/home/junsu/anaconda3/envs/autokeras/lib/python3.7/site-packages/autokeras/graph.py\", line 301, in build\n",
      "    return self._compile_keras_model(hp, model)\n",
      "  File \"/home/junsu/anaconda3/envs/autokeras/lib/python3.7/site-packages/autokeras/graph.py\", line 327, in _compile_keras_model\n",
      "    loss=self._get_loss())\n",
      "  File \"/home/junsu/anaconda3/envs/autokeras/lib/python3.7/site-packages/tensorflow_core/python/training/tracking/base.py\", line 457, in _method_wrapper\n",
      "    result = method(self, *args, **kwargs)\n",
      "  File \"/home/junsu/anaconda3/envs/autokeras/lib/python3.7/site-packages/tensorflow_core/python/keras/engine/training.py\", line 429, in compile\n",
      "    self._cache_output_metric_attributes(metrics, weighted_metrics)\n",
      "  File \"/home/junsu/anaconda3/envs/autokeras/lib/python3.7/site-packages/tensorflow_core/python/keras/engine/training.py\", line 1842, in _cache_output_metric_attributes\n",
      "    metrics, self.output_names, output_shapes, self.loss_functions)\n",
      "  File \"/home/junsu/anaconda3/envs/autokeras/lib/python3.7/site-packages/tensorflow_core/python/keras/engine/training_utils.py\", line 882, in collect_per_output_metric_info\n",
      "    metric, output_shape=output_shapes[i], loss_fn=loss_fns[i])\n",
      "  File \"/home/junsu/anaconda3/envs/autokeras/lib/python3.7/site-packages/tensorflow_core/python/keras/engine/training_utils.py\", line 1107, in get_metric_function\n",
      "    return metrics_module.get(metric)\n",
      "  File \"/home/junsu/anaconda3/envs/autokeras/lib/python3.7/site-packages/tensorflow_core/python/keras/metrics.py\", line 3064, in get\n",
      "    return deserialize(str(identifier))\n",
      "  File \"/home/junsu/anaconda3/envs/autokeras/lib/python3.7/site-packages/tensorflow_core/python/keras/metrics.py\", line 3056, in deserialize\n",
      "    printable_module_name='metric function')\n",
      "  File \"/home/junsu/anaconda3/envs/autokeras/lib/python3.7/site-packages/tensorflow_core/python/keras/utils/generic_utils.py\", line 322, in deserialize_keras_object\n",
      "    raise ValueError('Unknown ' + printable_module_name + ':' + object_name)\n",
      "ValueError: Unknown metric function:correlation_coefficient\n"
     ]
    },
    {
     "data": {
      "text/html": [
       "<span style=\"color:yellow\">[Warning] Invalid model 0/5</span>"
      ],
      "text/plain": [
       "<IPython.core.display.HTML object>"
      ]
     },
     "metadata": {},
     "output_type": "display_data"
    },
    {
     "name": "stderr",
     "output_type": "stream",
     "text": [
      "Traceback (most recent call last):\n",
      "  File \"/home/junsu/anaconda3/envs/autokeras/lib/python3.7/site-packages/kerastuner/engine/hypermodel.py\", line 105, in build\n",
      "    model = self.hypermodel.build(hp)\n",
      "  File \"/home/junsu/anaconda3/envs/autokeras/lib/python3.7/site-packages/kerastuner/engine/hypermodel.py\", line 65, in _build_wrapper\n",
      "    return self._build(hp, *args, **kwargs)\n",
      "  File \"/home/junsu/anaconda3/envs/autokeras/lib/python3.7/site-packages/autokeras/graph.py\", line 301, in build\n",
      "    return self._compile_keras_model(hp, model)\n",
      "  File \"/home/junsu/anaconda3/envs/autokeras/lib/python3.7/site-packages/autokeras/graph.py\", line 327, in _compile_keras_model\n",
      "    loss=self._get_loss())\n",
      "  File \"/home/junsu/anaconda3/envs/autokeras/lib/python3.7/site-packages/tensorflow_core/python/training/tracking/base.py\", line 457, in _method_wrapper\n",
      "    result = method(self, *args, **kwargs)\n",
      "  File \"/home/junsu/anaconda3/envs/autokeras/lib/python3.7/site-packages/tensorflow_core/python/keras/engine/training.py\", line 429, in compile\n",
      "    self._cache_output_metric_attributes(metrics, weighted_metrics)\n",
      "  File \"/home/junsu/anaconda3/envs/autokeras/lib/python3.7/site-packages/tensorflow_core/python/keras/engine/training.py\", line 1842, in _cache_output_metric_attributes\n",
      "    metrics, self.output_names, output_shapes, self.loss_functions)\n",
      "  File \"/home/junsu/anaconda3/envs/autokeras/lib/python3.7/site-packages/tensorflow_core/python/keras/engine/training_utils.py\", line 882, in collect_per_output_metric_info\n",
      "    metric, output_shape=output_shapes[i], loss_fn=loss_fns[i])\n",
      "  File \"/home/junsu/anaconda3/envs/autokeras/lib/python3.7/site-packages/tensorflow_core/python/keras/engine/training_utils.py\", line 1107, in get_metric_function\n",
      "    return metrics_module.get(metric)\n",
      "  File \"/home/junsu/anaconda3/envs/autokeras/lib/python3.7/site-packages/tensorflow_core/python/keras/metrics.py\", line 3064, in get\n",
      "    return deserialize(str(identifier))\n",
      "  File \"/home/junsu/anaconda3/envs/autokeras/lib/python3.7/site-packages/tensorflow_core/python/keras/metrics.py\", line 3056, in deserialize\n",
      "    printable_module_name='metric function')\n",
      "  File \"/home/junsu/anaconda3/envs/autokeras/lib/python3.7/site-packages/tensorflow_core/python/keras/utils/generic_utils.py\", line 322, in deserialize_keras_object\n",
      "    raise ValueError('Unknown ' + printable_module_name + ':' + object_name)\n",
      "ValueError: Unknown metric function:correlation_coefficient\n"
     ]
    },
    {
     "data": {
      "text/html": [
       "<span style=\"color:yellow\">[Warning] Invalid model 1/5</span>"
      ],
      "text/plain": [
       "<IPython.core.display.HTML object>"
      ]
     },
     "metadata": {},
     "output_type": "display_data"
    },
    {
     "name": "stderr",
     "output_type": "stream",
     "text": [
      "Traceback (most recent call last):\n",
      "  File \"/home/junsu/anaconda3/envs/autokeras/lib/python3.7/site-packages/kerastuner/engine/hypermodel.py\", line 105, in build\n",
      "    model = self.hypermodel.build(hp)\n",
      "  File \"/home/junsu/anaconda3/envs/autokeras/lib/python3.7/site-packages/kerastuner/engine/hypermodel.py\", line 65, in _build_wrapper\n",
      "    return self._build(hp, *args, **kwargs)\n",
      "  File \"/home/junsu/anaconda3/envs/autokeras/lib/python3.7/site-packages/autokeras/graph.py\", line 301, in build\n",
      "    return self._compile_keras_model(hp, model)\n",
      "  File \"/home/junsu/anaconda3/envs/autokeras/lib/python3.7/site-packages/autokeras/graph.py\", line 327, in _compile_keras_model\n",
      "    loss=self._get_loss())\n",
      "  File \"/home/junsu/anaconda3/envs/autokeras/lib/python3.7/site-packages/tensorflow_core/python/training/tracking/base.py\", line 457, in _method_wrapper\n",
      "    result = method(self, *args, **kwargs)\n",
      "  File \"/home/junsu/anaconda3/envs/autokeras/lib/python3.7/site-packages/tensorflow_core/python/keras/engine/training.py\", line 429, in compile\n",
      "    self._cache_output_metric_attributes(metrics, weighted_metrics)\n",
      "  File \"/home/junsu/anaconda3/envs/autokeras/lib/python3.7/site-packages/tensorflow_core/python/keras/engine/training.py\", line 1842, in _cache_output_metric_attributes\n",
      "    metrics, self.output_names, output_shapes, self.loss_functions)\n",
      "  File \"/home/junsu/anaconda3/envs/autokeras/lib/python3.7/site-packages/tensorflow_core/python/keras/engine/training_utils.py\", line 882, in collect_per_output_metric_info\n",
      "    metric, output_shape=output_shapes[i], loss_fn=loss_fns[i])\n",
      "  File \"/home/junsu/anaconda3/envs/autokeras/lib/python3.7/site-packages/tensorflow_core/python/keras/engine/training_utils.py\", line 1107, in get_metric_function\n",
      "    return metrics_module.get(metric)\n",
      "  File \"/home/junsu/anaconda3/envs/autokeras/lib/python3.7/site-packages/tensorflow_core/python/keras/metrics.py\", line 3064, in get\n",
      "    return deserialize(str(identifier))\n",
      "  File \"/home/junsu/anaconda3/envs/autokeras/lib/python3.7/site-packages/tensorflow_core/python/keras/metrics.py\", line 3056, in deserialize\n",
      "    printable_module_name='metric function')\n",
      "  File \"/home/junsu/anaconda3/envs/autokeras/lib/python3.7/site-packages/tensorflow_core/python/keras/utils/generic_utils.py\", line 322, in deserialize_keras_object\n",
      "    raise ValueError('Unknown ' + printable_module_name + ':' + object_name)\n",
      "ValueError: Unknown metric function:correlation_coefficient\n"
     ]
    },
    {
     "data": {
      "text/html": [
       "<span style=\"color:yellow\">[Warning] Invalid model 2/5</span>"
      ],
      "text/plain": [
       "<IPython.core.display.HTML object>"
      ]
     },
     "metadata": {},
     "output_type": "display_data"
    },
    {
     "name": "stderr",
     "output_type": "stream",
     "text": [
      "Traceback (most recent call last):\n",
      "  File \"/home/junsu/anaconda3/envs/autokeras/lib/python3.7/site-packages/kerastuner/engine/hypermodel.py\", line 105, in build\n",
      "    model = self.hypermodel.build(hp)\n",
      "  File \"/home/junsu/anaconda3/envs/autokeras/lib/python3.7/site-packages/kerastuner/engine/hypermodel.py\", line 65, in _build_wrapper\n",
      "    return self._build(hp, *args, **kwargs)\n",
      "  File \"/home/junsu/anaconda3/envs/autokeras/lib/python3.7/site-packages/autokeras/graph.py\", line 301, in build\n",
      "    return self._compile_keras_model(hp, model)\n",
      "  File \"/home/junsu/anaconda3/envs/autokeras/lib/python3.7/site-packages/autokeras/graph.py\", line 327, in _compile_keras_model\n",
      "    loss=self._get_loss())\n",
      "  File \"/home/junsu/anaconda3/envs/autokeras/lib/python3.7/site-packages/tensorflow_core/python/training/tracking/base.py\", line 457, in _method_wrapper\n",
      "    result = method(self, *args, **kwargs)\n",
      "  File \"/home/junsu/anaconda3/envs/autokeras/lib/python3.7/site-packages/tensorflow_core/python/keras/engine/training.py\", line 429, in compile\n",
      "    self._cache_output_metric_attributes(metrics, weighted_metrics)\n",
      "  File \"/home/junsu/anaconda3/envs/autokeras/lib/python3.7/site-packages/tensorflow_core/python/keras/engine/training.py\", line 1842, in _cache_output_metric_attributes\n",
      "    metrics, self.output_names, output_shapes, self.loss_functions)\n",
      "  File \"/home/junsu/anaconda3/envs/autokeras/lib/python3.7/site-packages/tensorflow_core/python/keras/engine/training_utils.py\", line 882, in collect_per_output_metric_info\n",
      "    metric, output_shape=output_shapes[i], loss_fn=loss_fns[i])\n",
      "  File \"/home/junsu/anaconda3/envs/autokeras/lib/python3.7/site-packages/tensorflow_core/python/keras/engine/training_utils.py\", line 1107, in get_metric_function\n",
      "    return metrics_module.get(metric)\n",
      "  File \"/home/junsu/anaconda3/envs/autokeras/lib/python3.7/site-packages/tensorflow_core/python/keras/metrics.py\", line 3064, in get\n",
      "    return deserialize(str(identifier))\n",
      "  File \"/home/junsu/anaconda3/envs/autokeras/lib/python3.7/site-packages/tensorflow_core/python/keras/metrics.py\", line 3056, in deserialize\n",
      "    printable_module_name='metric function')\n",
      "  File \"/home/junsu/anaconda3/envs/autokeras/lib/python3.7/site-packages/tensorflow_core/python/keras/utils/generic_utils.py\", line 322, in deserialize_keras_object\n",
      "    raise ValueError('Unknown ' + printable_module_name + ':' + object_name)\n",
      "ValueError: Unknown metric function:correlation_coefficient\n"
     ]
    },
    {
     "data": {
      "text/html": [
       "<span style=\"color:yellow\">[Warning] Invalid model 3/5</span>"
      ],
      "text/plain": [
       "<IPython.core.display.HTML object>"
      ]
     },
     "metadata": {},
     "output_type": "display_data"
    },
    {
     "name": "stderr",
     "output_type": "stream",
     "text": [
      "Traceback (most recent call last):\n",
      "  File \"/home/junsu/anaconda3/envs/autokeras/lib/python3.7/site-packages/kerastuner/engine/hypermodel.py\", line 105, in build\n",
      "    model = self.hypermodel.build(hp)\n",
      "  File \"/home/junsu/anaconda3/envs/autokeras/lib/python3.7/site-packages/kerastuner/engine/hypermodel.py\", line 65, in _build_wrapper\n",
      "    return self._build(hp, *args, **kwargs)\n",
      "  File \"/home/junsu/anaconda3/envs/autokeras/lib/python3.7/site-packages/autokeras/graph.py\", line 301, in build\n",
      "    return self._compile_keras_model(hp, model)\n",
      "  File \"/home/junsu/anaconda3/envs/autokeras/lib/python3.7/site-packages/autokeras/graph.py\", line 327, in _compile_keras_model\n",
      "    loss=self._get_loss())\n",
      "  File \"/home/junsu/anaconda3/envs/autokeras/lib/python3.7/site-packages/tensorflow_core/python/training/tracking/base.py\", line 457, in _method_wrapper\n",
      "    result = method(self, *args, **kwargs)\n",
      "  File \"/home/junsu/anaconda3/envs/autokeras/lib/python3.7/site-packages/tensorflow_core/python/keras/engine/training.py\", line 429, in compile\n",
      "    self._cache_output_metric_attributes(metrics, weighted_metrics)\n",
      "  File \"/home/junsu/anaconda3/envs/autokeras/lib/python3.7/site-packages/tensorflow_core/python/keras/engine/training.py\", line 1842, in _cache_output_metric_attributes\n",
      "    metrics, self.output_names, output_shapes, self.loss_functions)\n",
      "  File \"/home/junsu/anaconda3/envs/autokeras/lib/python3.7/site-packages/tensorflow_core/python/keras/engine/training_utils.py\", line 882, in collect_per_output_metric_info\n",
      "    metric, output_shape=output_shapes[i], loss_fn=loss_fns[i])\n",
      "  File \"/home/junsu/anaconda3/envs/autokeras/lib/python3.7/site-packages/tensorflow_core/python/keras/engine/training_utils.py\", line 1107, in get_metric_function\n",
      "    return metrics_module.get(metric)\n",
      "  File \"/home/junsu/anaconda3/envs/autokeras/lib/python3.7/site-packages/tensorflow_core/python/keras/metrics.py\", line 3064, in get\n",
      "    return deserialize(str(identifier))\n",
      "  File \"/home/junsu/anaconda3/envs/autokeras/lib/python3.7/site-packages/tensorflow_core/python/keras/metrics.py\", line 3056, in deserialize\n",
      "    printable_module_name='metric function')\n",
      "  File \"/home/junsu/anaconda3/envs/autokeras/lib/python3.7/site-packages/tensorflow_core/python/keras/utils/generic_utils.py\", line 322, in deserialize_keras_object\n",
      "    raise ValueError('Unknown ' + printable_module_name + ':' + object_name)\n",
      "ValueError: Unknown metric function:correlation_coefficient\n"
     ]
    },
    {
     "data": {
      "text/html": [
       "<span style=\"color:yellow\">[Warning] Invalid model 4/5</span>"
      ],
      "text/plain": [
       "<IPython.core.display.HTML object>"
      ]
     },
     "metadata": {},
     "output_type": "display_data"
    },
    {
     "name": "stderr",
     "output_type": "stream",
     "text": [
      "Traceback (most recent call last):\n",
      "  File \"/home/junsu/anaconda3/envs/autokeras/lib/python3.7/site-packages/kerastuner/engine/hypermodel.py\", line 105, in build\n",
      "    model = self.hypermodel.build(hp)\n",
      "  File \"/home/junsu/anaconda3/envs/autokeras/lib/python3.7/site-packages/kerastuner/engine/hypermodel.py\", line 65, in _build_wrapper\n",
      "    return self._build(hp, *args, **kwargs)\n",
      "  File \"/home/junsu/anaconda3/envs/autokeras/lib/python3.7/site-packages/autokeras/graph.py\", line 301, in build\n",
      "    return self._compile_keras_model(hp, model)\n",
      "  File \"/home/junsu/anaconda3/envs/autokeras/lib/python3.7/site-packages/autokeras/graph.py\", line 327, in _compile_keras_model\n",
      "    loss=self._get_loss())\n",
      "  File \"/home/junsu/anaconda3/envs/autokeras/lib/python3.7/site-packages/tensorflow_core/python/training/tracking/base.py\", line 457, in _method_wrapper\n",
      "    result = method(self, *args, **kwargs)\n",
      "  File \"/home/junsu/anaconda3/envs/autokeras/lib/python3.7/site-packages/tensorflow_core/python/keras/engine/training.py\", line 429, in compile\n",
      "    self._cache_output_metric_attributes(metrics, weighted_metrics)\n",
      "  File \"/home/junsu/anaconda3/envs/autokeras/lib/python3.7/site-packages/tensorflow_core/python/keras/engine/training.py\", line 1842, in _cache_output_metric_attributes\n",
      "    metrics, self.output_names, output_shapes, self.loss_functions)\n",
      "  File \"/home/junsu/anaconda3/envs/autokeras/lib/python3.7/site-packages/tensorflow_core/python/keras/engine/training_utils.py\", line 882, in collect_per_output_metric_info\n",
      "    metric, output_shape=output_shapes[i], loss_fn=loss_fns[i])\n",
      "  File \"/home/junsu/anaconda3/envs/autokeras/lib/python3.7/site-packages/tensorflow_core/python/keras/engine/training_utils.py\", line 1107, in get_metric_function\n",
      "    return metrics_module.get(metric)\n",
      "  File \"/home/junsu/anaconda3/envs/autokeras/lib/python3.7/site-packages/tensorflow_core/python/keras/metrics.py\", line 3064, in get\n",
      "    return deserialize(str(identifier))\n",
      "  File \"/home/junsu/anaconda3/envs/autokeras/lib/python3.7/site-packages/tensorflow_core/python/keras/metrics.py\", line 3056, in deserialize\n",
      "    printable_module_name='metric function')\n",
      "  File \"/home/junsu/anaconda3/envs/autokeras/lib/python3.7/site-packages/tensorflow_core/python/keras/utils/generic_utils.py\", line 322, in deserialize_keras_object\n",
      "    raise ValueError('Unknown ' + printable_module_name + ':' + object_name)\n",
      "ValueError: Unknown metric function:correlation_coefficient\n"
     ]
    },
    {
     "data": {
      "text/html": [
       "<span style=\"color:yellow\">[Warning] Invalid model 5/5</span>"
      ],
      "text/plain": [
       "<IPython.core.display.HTML object>"
      ]
     },
     "metadata": {},
     "output_type": "display_data"
    },
    {
     "ename": "RuntimeError",
     "evalue": "Too many failed attempts to build model.",
     "output_type": "error",
     "traceback": [
      "\u001b[0;31m---------------------------------------------------------------------------\u001b[0m",
      "\u001b[0;31mValueError\u001b[0m                                Traceback (most recent call last)",
      "\u001b[0;32m~/anaconda3/envs/autokeras/lib/python3.7/site-packages/kerastuner/engine/hypermodel.py\u001b[0m in \u001b[0;36mbuild\u001b[0;34m(self, hp)\u001b[0m\n\u001b[1;32m    104\u001b[0m                 \u001b[0;32mwith\u001b[0m \u001b[0mmaybe_distribute\u001b[0m\u001b[0;34m(\u001b[0m\u001b[0mself\u001b[0m\u001b[0;34m.\u001b[0m\u001b[0mdistribution_strategy\u001b[0m\u001b[0;34m)\u001b[0m\u001b[0;34m:\u001b[0m\u001b[0;34m\u001b[0m\u001b[0;34m\u001b[0m\u001b[0m\n\u001b[0;32m--> 105\u001b[0;31m                     \u001b[0mmodel\u001b[0m \u001b[0;34m=\u001b[0m \u001b[0mself\u001b[0m\u001b[0;34m.\u001b[0m\u001b[0mhypermodel\u001b[0m\u001b[0;34m.\u001b[0m\u001b[0mbuild\u001b[0m\u001b[0;34m(\u001b[0m\u001b[0mhp\u001b[0m\u001b[0;34m)\u001b[0m\u001b[0;34m\u001b[0m\u001b[0;34m\u001b[0m\u001b[0m\n\u001b[0m\u001b[1;32m    106\u001b[0m             \u001b[0;32mexcept\u001b[0m\u001b[0;34m:\u001b[0m\u001b[0;34m\u001b[0m\u001b[0;34m\u001b[0m\u001b[0m\n",
      "\u001b[0;32m~/anaconda3/envs/autokeras/lib/python3.7/site-packages/kerastuner/engine/hypermodel.py\u001b[0m in \u001b[0;36m_build_wrapper\u001b[0;34m(self, hp, *args, **kwargs)\u001b[0m\n\u001b[1;32m     64\u001b[0m             \u001b[0mhp\u001b[0m \u001b[0;34m=\u001b[0m \u001b[0mhp\u001b[0m\u001b[0;34m.\u001b[0m\u001b[0mcopy\u001b[0m\u001b[0;34m(\u001b[0m\u001b[0;34m)\u001b[0m\u001b[0;34m\u001b[0m\u001b[0;34m\u001b[0m\u001b[0m\n\u001b[0;32m---> 65\u001b[0;31m         \u001b[0;32mreturn\u001b[0m \u001b[0mself\u001b[0m\u001b[0;34m.\u001b[0m\u001b[0m_build\u001b[0m\u001b[0;34m(\u001b[0m\u001b[0mhp\u001b[0m\u001b[0;34m,\u001b[0m \u001b[0;34m*\u001b[0m\u001b[0margs\u001b[0m\u001b[0;34m,\u001b[0m \u001b[0;34m**\u001b[0m\u001b[0mkwargs\u001b[0m\u001b[0;34m)\u001b[0m\u001b[0;34m\u001b[0m\u001b[0;34m\u001b[0m\u001b[0m\n\u001b[0m\u001b[1;32m     66\u001b[0m \u001b[0;34m\u001b[0m\u001b[0m\n",
      "\u001b[0;32m~/anaconda3/envs/autokeras/lib/python3.7/site-packages/autokeras/graph.py\u001b[0m in \u001b[0;36mbuild\u001b[0;34m(self, hp)\u001b[0m\n\u001b[1;32m    300\u001b[0m \u001b[0;34m\u001b[0m\u001b[0m\n\u001b[0;32m--> 301\u001b[0;31m         \u001b[0;32mreturn\u001b[0m \u001b[0mself\u001b[0m\u001b[0;34m.\u001b[0m\u001b[0m_compile_keras_model\u001b[0m\u001b[0;34m(\u001b[0m\u001b[0mhp\u001b[0m\u001b[0;34m,\u001b[0m \u001b[0mmodel\u001b[0m\u001b[0;34m)\u001b[0m\u001b[0;34m\u001b[0m\u001b[0;34m\u001b[0m\u001b[0m\n\u001b[0m\u001b[1;32m    302\u001b[0m \u001b[0;34m\u001b[0m\u001b[0m\n",
      "\u001b[0;32m~/anaconda3/envs/autokeras/lib/python3.7/site-packages/autokeras/graph.py\u001b[0m in \u001b[0;36m_compile_keras_model\u001b[0;34m(self, hp, model)\u001b[0m\n\u001b[1;32m    326\u001b[0m                       \u001b[0mmetrics\u001b[0m\u001b[0;34m=\u001b[0m\u001b[0mself\u001b[0m\u001b[0;34m.\u001b[0m\u001b[0m_get_metrics\u001b[0m\u001b[0;34m(\u001b[0m\u001b[0;34m)\u001b[0m\u001b[0;34m,\u001b[0m\u001b[0;34m\u001b[0m\u001b[0;34m\u001b[0m\u001b[0m\n\u001b[0;32m--> 327\u001b[0;31m                       loss=self._get_loss())\n\u001b[0m\u001b[1;32m    328\u001b[0m \u001b[0;34m\u001b[0m\u001b[0m\n",
      "\u001b[0;32m~/anaconda3/envs/autokeras/lib/python3.7/site-packages/tensorflow_core/python/training/tracking/base.py\u001b[0m in \u001b[0;36m_method_wrapper\u001b[0;34m(self, *args, **kwargs)\u001b[0m\n\u001b[1;32m    456\u001b[0m     \u001b[0;32mtry\u001b[0m\u001b[0;34m:\u001b[0m\u001b[0;34m\u001b[0m\u001b[0;34m\u001b[0m\u001b[0m\n\u001b[0;32m--> 457\u001b[0;31m       \u001b[0mresult\u001b[0m \u001b[0;34m=\u001b[0m \u001b[0mmethod\u001b[0m\u001b[0;34m(\u001b[0m\u001b[0mself\u001b[0m\u001b[0;34m,\u001b[0m \u001b[0;34m*\u001b[0m\u001b[0margs\u001b[0m\u001b[0;34m,\u001b[0m \u001b[0;34m**\u001b[0m\u001b[0mkwargs\u001b[0m\u001b[0;34m)\u001b[0m\u001b[0;34m\u001b[0m\u001b[0;34m\u001b[0m\u001b[0m\n\u001b[0m\u001b[1;32m    458\u001b[0m     \u001b[0;32mfinally\u001b[0m\u001b[0;34m:\u001b[0m\u001b[0;34m\u001b[0m\u001b[0;34m\u001b[0m\u001b[0m\n",
      "\u001b[0;32m~/anaconda3/envs/autokeras/lib/python3.7/site-packages/tensorflow_core/python/keras/engine/training.py\u001b[0m in \u001b[0;36mcompile\u001b[0;34m(self, optimizer, loss, metrics, loss_weights, sample_weight_mode, weighted_metrics, target_tensors, distribute, **kwargs)\u001b[0m\n\u001b[1;32m    428\u001b[0m       \u001b[0;31m# Save all metric attributes per output of the model.\u001b[0m\u001b[0;34m\u001b[0m\u001b[0;34m\u001b[0m\u001b[0;34m\u001b[0m\u001b[0m\n\u001b[0;32m--> 429\u001b[0;31m       \u001b[0mself\u001b[0m\u001b[0;34m.\u001b[0m\u001b[0m_cache_output_metric_attributes\u001b[0m\u001b[0;34m(\u001b[0m\u001b[0mmetrics\u001b[0m\u001b[0;34m,\u001b[0m \u001b[0mweighted_metrics\u001b[0m\u001b[0;34m)\u001b[0m\u001b[0;34m\u001b[0m\u001b[0;34m\u001b[0m\u001b[0m\n\u001b[0m\u001b[1;32m    430\u001b[0m \u001b[0;34m\u001b[0m\u001b[0m\n",
      "\u001b[0;32m~/anaconda3/envs/autokeras/lib/python3.7/site-packages/tensorflow_core/python/keras/engine/training.py\u001b[0m in \u001b[0;36m_cache_output_metric_attributes\u001b[0;34m(self, metrics, weighted_metrics)\u001b[0m\n\u001b[1;32m   1841\u001b[0m     self._per_output_metrics = training_utils.collect_per_output_metric_info(\n\u001b[0;32m-> 1842\u001b[0;31m         metrics, self.output_names, output_shapes, self.loss_functions)\n\u001b[0m\u001b[1;32m   1843\u001b[0m     self._per_output_weighted_metrics = (\n",
      "\u001b[0;32m~/anaconda3/envs/autokeras/lib/python3.7/site-packages/tensorflow_core/python/keras/engine/training_utils.py\u001b[0m in \u001b[0;36mcollect_per_output_metric_info\u001b[0;34m(metrics, output_names, output_shapes, loss_fns, is_weighted)\u001b[0m\n\u001b[1;32m    881\u001b[0m       metric_fn = get_metric_function(\n\u001b[0;32m--> 882\u001b[0;31m           metric, output_shape=output_shapes[i], loss_fn=loss_fns[i])\n\u001b[0m\u001b[1;32m    883\u001b[0m \u001b[0;34m\u001b[0m\u001b[0m\n",
      "\u001b[0;32m~/anaconda3/envs/autokeras/lib/python3.7/site-packages/tensorflow_core/python/keras/engine/training_utils.py\u001b[0m in \u001b[0;36mget_metric_function\u001b[0;34m(metric, output_shape, loss_fn)\u001b[0m\n\u001b[1;32m   1106\u001b[0m   \u001b[0;32mif\u001b[0m \u001b[0mmetric\u001b[0m \u001b[0;32mnot\u001b[0m \u001b[0;32min\u001b[0m \u001b[0;34m[\u001b[0m\u001b[0;34m'accuracy'\u001b[0m\u001b[0;34m,\u001b[0m \u001b[0;34m'acc'\u001b[0m\u001b[0;34m,\u001b[0m \u001b[0;34m'crossentropy'\u001b[0m\u001b[0;34m,\u001b[0m \u001b[0;34m'ce'\u001b[0m\u001b[0;34m]\u001b[0m\u001b[0;34m:\u001b[0m\u001b[0;34m\u001b[0m\u001b[0;34m\u001b[0m\u001b[0m\n\u001b[0;32m-> 1107\u001b[0;31m     \u001b[0;32mreturn\u001b[0m \u001b[0mmetrics_module\u001b[0m\u001b[0;34m.\u001b[0m\u001b[0mget\u001b[0m\u001b[0;34m(\u001b[0m\u001b[0mmetric\u001b[0m\u001b[0;34m)\u001b[0m\u001b[0;34m\u001b[0m\u001b[0;34m\u001b[0m\u001b[0m\n\u001b[0m\u001b[1;32m   1108\u001b[0m \u001b[0;34m\u001b[0m\u001b[0m\n",
      "\u001b[0;32m~/anaconda3/envs/autokeras/lib/python3.7/site-packages/tensorflow_core/python/keras/metrics.py\u001b[0m in \u001b[0;36mget\u001b[0;34m(identifier)\u001b[0m\n\u001b[1;32m   3063\u001b[0m   \u001b[0;32melif\u001b[0m \u001b[0misinstance\u001b[0m\u001b[0;34m(\u001b[0m\u001b[0midentifier\u001b[0m\u001b[0;34m,\u001b[0m \u001b[0msix\u001b[0m\u001b[0;34m.\u001b[0m\u001b[0mstring_types\u001b[0m\u001b[0;34m)\u001b[0m\u001b[0;34m:\u001b[0m\u001b[0;34m\u001b[0m\u001b[0;34m\u001b[0m\u001b[0m\n\u001b[0;32m-> 3064\u001b[0;31m     \u001b[0;32mreturn\u001b[0m \u001b[0mdeserialize\u001b[0m\u001b[0;34m(\u001b[0m\u001b[0mstr\u001b[0m\u001b[0;34m(\u001b[0m\u001b[0midentifier\u001b[0m\u001b[0;34m)\u001b[0m\u001b[0;34m)\u001b[0m\u001b[0;34m\u001b[0m\u001b[0;34m\u001b[0m\u001b[0m\n\u001b[0m\u001b[1;32m   3065\u001b[0m   \u001b[0;32melif\u001b[0m \u001b[0mcallable\u001b[0m\u001b[0;34m(\u001b[0m\u001b[0midentifier\u001b[0m\u001b[0;34m)\u001b[0m\u001b[0;34m:\u001b[0m\u001b[0;34m\u001b[0m\u001b[0;34m\u001b[0m\u001b[0m\n",
      "\u001b[0;32m~/anaconda3/envs/autokeras/lib/python3.7/site-packages/tensorflow_core/python/keras/metrics.py\u001b[0m in \u001b[0;36mdeserialize\u001b[0;34m(config, custom_objects)\u001b[0m\n\u001b[1;32m   3055\u001b[0m       \u001b[0mcustom_objects\u001b[0m\u001b[0;34m=\u001b[0m\u001b[0mcustom_objects\u001b[0m\u001b[0;34m,\u001b[0m\u001b[0;34m\u001b[0m\u001b[0;34m\u001b[0m\u001b[0m\n\u001b[0;32m-> 3056\u001b[0;31m       printable_module_name='metric function')\n\u001b[0m\u001b[1;32m   3057\u001b[0m \u001b[0;34m\u001b[0m\u001b[0m\n",
      "\u001b[0;32m~/anaconda3/envs/autokeras/lib/python3.7/site-packages/tensorflow_core/python/keras/utils/generic_utils.py\u001b[0m in \u001b[0;36mdeserialize_keras_object\u001b[0;34m(identifier, module_objects, custom_objects, printable_module_name)\u001b[0m\n\u001b[1;32m    321\u001b[0m       \u001b[0;32mif\u001b[0m \u001b[0mobj\u001b[0m \u001b[0;32mis\u001b[0m \u001b[0;32mNone\u001b[0m\u001b[0;34m:\u001b[0m\u001b[0;34m\u001b[0m\u001b[0;34m\u001b[0m\u001b[0m\n\u001b[0;32m--> 322\u001b[0;31m         \u001b[0;32mraise\u001b[0m \u001b[0mValueError\u001b[0m\u001b[0;34m(\u001b[0m\u001b[0;34m'Unknown '\u001b[0m \u001b[0;34m+\u001b[0m \u001b[0mprintable_module_name\u001b[0m \u001b[0;34m+\u001b[0m \u001b[0;34m':'\u001b[0m \u001b[0;34m+\u001b[0m \u001b[0mobject_name\u001b[0m\u001b[0;34m)\u001b[0m\u001b[0;34m\u001b[0m\u001b[0;34m\u001b[0m\u001b[0m\n\u001b[0m\u001b[1;32m    323\u001b[0m     \u001b[0;31m# Classes passed by name are instantiated with no args, functions are\u001b[0m\u001b[0;34m\u001b[0m\u001b[0;34m\u001b[0m\u001b[0;34m\u001b[0m\u001b[0m\n",
      "\u001b[0;31mValueError\u001b[0m: Unknown metric function:correlation_coefficient",
      "\nDuring handling of the above exception, another exception occurred:\n",
      "\u001b[0;31mRuntimeError\u001b[0m                              Traceback (most recent call last)",
      "\u001b[0;32m<ipython-input-7-1e6136b3ec4b>\u001b[0m in \u001b[0;36m<module>\u001b[0;34m\u001b[0m\n\u001b[1;32m      4\u001b[0m \u001b[0mclf\u001b[0m \u001b[0;34m=\u001b[0m \u001b[0mak\u001b[0m\u001b[0;34m.\u001b[0m\u001b[0mTextRegressor\u001b[0m\u001b[0;34m(\u001b[0m\u001b[0mmax_trials\u001b[0m\u001b[0;34m=\u001b[0m\u001b[0;36m200\u001b[0m\u001b[0;34m,\u001b[0m \u001b[0moverwrite\u001b[0m\u001b[0;34m=\u001b[0m\u001b[0;32mFalse\u001b[0m\u001b[0;34m,\u001b[0m \u001b[0mmetrics\u001b[0m\u001b[0;34m=\u001b[0m\u001b[0;34m\"correlation_coefficient\"\u001b[0m\u001b[0;34m)\u001b[0m\u001b[0;34m\u001b[0m\u001b[0;34m\u001b[0m\u001b[0m\n\u001b[1;32m      5\u001b[0m \u001b[0;31m# Feed the text classifier with training data.\u001b[0m\u001b[0;34m\u001b[0m\u001b[0;34m\u001b[0m\u001b[0;34m\u001b[0m\u001b[0m\n\u001b[0;32m----> 6\u001b[0;31m \u001b[0mclf\u001b[0m\u001b[0;34m.\u001b[0m\u001b[0mfit\u001b[0m\u001b[0;34m(\u001b[0m\u001b[0mx_train\u001b[0m\u001b[0;34m,\u001b[0m \u001b[0my_train\u001b[0m\u001b[0;34m)\u001b[0m\u001b[0;34m\u001b[0m\u001b[0;34m\u001b[0m\u001b[0m\n\u001b[0m\u001b[1;32m      7\u001b[0m \u001b[0;31m# Predict with the best model.\u001b[0m\u001b[0;34m\u001b[0m\u001b[0;34m\u001b[0m\u001b[0;34m\u001b[0m\u001b[0m\n\u001b[1;32m      8\u001b[0m \u001b[0mpredicted_y\u001b[0m \u001b[0;34m=\u001b[0m \u001b[0mclf\u001b[0m\u001b[0;34m.\u001b[0m\u001b[0mpredict\u001b[0m\u001b[0;34m(\u001b[0m\u001b[0mx_test\u001b[0m\u001b[0;34m)\u001b[0m\u001b[0;34m\u001b[0m\u001b[0;34m\u001b[0m\u001b[0m\n",
      "\u001b[0;32m~/anaconda3/envs/autokeras/lib/python3.7/site-packages/autokeras/tasks/text.py\u001b[0m in \u001b[0;36mfit\u001b[0;34m(self, x, y, epochs, callbacks, validation_split, validation_data, **kwargs)\u001b[0m\n\u001b[1;32m    216\u001b[0m                     \u001b[0mvalidation_split\u001b[0m\u001b[0;34m=\u001b[0m\u001b[0mvalidation_split\u001b[0m\u001b[0;34m,\u001b[0m\u001b[0;34m\u001b[0m\u001b[0;34m\u001b[0m\u001b[0m\n\u001b[1;32m    217\u001b[0m                     \u001b[0mvalidation_data\u001b[0m\u001b[0;34m=\u001b[0m\u001b[0mvalidation_data\u001b[0m\u001b[0;34m,\u001b[0m\u001b[0;34m\u001b[0m\u001b[0;34m\u001b[0m\u001b[0m\n\u001b[0;32m--> 218\u001b[0;31m                     **kwargs)\n\u001b[0m",
      "\u001b[0;32m~/anaconda3/envs/autokeras/lib/python3.7/site-packages/autokeras/auto_model.py\u001b[0m in \u001b[0;36mfit\u001b[0;34m(self, x, y, batch_size, epochs, callbacks, validation_split, validation_data, **kwargs)\u001b[0m\n\u001b[1;32m    248\u001b[0m                           \u001b[0mvalidation_data\u001b[0m\u001b[0;34m=\u001b[0m\u001b[0mvalidation_data\u001b[0m\u001b[0;34m,\u001b[0m\u001b[0;34m\u001b[0m\u001b[0;34m\u001b[0m\u001b[0m\n\u001b[1;32m    249\u001b[0m                           \u001b[0mfit_on_val_data\u001b[0m\u001b[0;34m=\u001b[0m\u001b[0mself\u001b[0m\u001b[0;34m.\u001b[0m\u001b[0m_split_dataset\u001b[0m\u001b[0;34m,\u001b[0m\u001b[0;34m\u001b[0m\u001b[0;34m\u001b[0m\u001b[0m\n\u001b[0;32m--> 250\u001b[0;31m                           **kwargs)\n\u001b[0m\u001b[1;32m    251\u001b[0m \u001b[0;34m\u001b[0m\u001b[0m\n\u001b[1;32m    252\u001b[0m     \u001b[0;32mdef\u001b[0m \u001b[0m_process_x\u001b[0m\u001b[0;34m(\u001b[0m\u001b[0mself\u001b[0m\u001b[0;34m,\u001b[0m \u001b[0mx\u001b[0m\u001b[0;34m,\u001b[0m \u001b[0mfit\u001b[0m\u001b[0;34m)\u001b[0m\u001b[0;34m:\u001b[0m\u001b[0;34m\u001b[0m\u001b[0;34m\u001b[0m\u001b[0m\n",
      "\u001b[0;32m~/anaconda3/envs/autokeras/lib/python3.7/site-packages/autokeras/engine/tuner.py\u001b[0m in \u001b[0;36msearch\u001b[0;34m(self, callbacks, fit_on_val_data, **fit_kwargs)\u001b[0m\n\u001b[1;32m    141\u001b[0m                 fit_kwargs['x'] = fit_kwargs['x'].concatenate(\n\u001b[1;32m    142\u001b[0m                     fit_kwargs['validation_data'])\n\u001b[0;32m--> 143\u001b[0;31m             \u001b[0mmodel\u001b[0m \u001b[0;34m=\u001b[0m \u001b[0mself\u001b[0m\u001b[0;34m.\u001b[0m\u001b[0mhypermodel\u001b[0m\u001b[0;34m.\u001b[0m\u001b[0mbuild\u001b[0m\u001b[0;34m(\u001b[0m\u001b[0mbest_hp\u001b[0m\u001b[0;34m)\u001b[0m\u001b[0;34m\u001b[0m\u001b[0;34m\u001b[0m\u001b[0m\n\u001b[0m\u001b[1;32m    144\u001b[0m             \u001b[0mmodel\u001b[0m\u001b[0;34m.\u001b[0m\u001b[0mfit\u001b[0m\u001b[0;34m(\u001b[0m\u001b[0;34m**\u001b[0m\u001b[0mfit_kwargs\u001b[0m\u001b[0;34m)\u001b[0m\u001b[0;34m\u001b[0m\u001b[0;34m\u001b[0m\u001b[0m\n\u001b[1;32m    145\u001b[0m         \u001b[0;32melse\u001b[0m\u001b[0;34m:\u001b[0m\u001b[0;34m\u001b[0m\u001b[0;34m\u001b[0m\u001b[0m\n",
      "\u001b[0;32m~/anaconda3/envs/autokeras/lib/python3.7/site-packages/kerastuner/engine/hypermodel.py\u001b[0m in \u001b[0;36m_build_wrapper\u001b[0;34m(self, hp, *args, **kwargs)\u001b[0m\n\u001b[1;32m     63\u001b[0m             \u001b[0;31m# to the search space.\u001b[0m\u001b[0;34m\u001b[0m\u001b[0;34m\u001b[0m\u001b[0;34m\u001b[0m\u001b[0m\n\u001b[1;32m     64\u001b[0m             \u001b[0mhp\u001b[0m \u001b[0;34m=\u001b[0m \u001b[0mhp\u001b[0m\u001b[0;34m.\u001b[0m\u001b[0mcopy\u001b[0m\u001b[0;34m(\u001b[0m\u001b[0;34m)\u001b[0m\u001b[0;34m\u001b[0m\u001b[0;34m\u001b[0m\u001b[0m\n\u001b[0;32m---> 65\u001b[0;31m         \u001b[0;32mreturn\u001b[0m \u001b[0mself\u001b[0m\u001b[0;34m.\u001b[0m\u001b[0m_build\u001b[0m\u001b[0;34m(\u001b[0m\u001b[0mhp\u001b[0m\u001b[0;34m,\u001b[0m \u001b[0;34m*\u001b[0m\u001b[0margs\u001b[0m\u001b[0;34m,\u001b[0m \u001b[0;34m**\u001b[0m\u001b[0mkwargs\u001b[0m\u001b[0;34m)\u001b[0m\u001b[0;34m\u001b[0m\u001b[0;34m\u001b[0m\u001b[0m\n\u001b[0m\u001b[1;32m     66\u001b[0m \u001b[0;34m\u001b[0m\u001b[0m\n\u001b[1;32m     67\u001b[0m \u001b[0;34m\u001b[0m\u001b[0m\n",
      "\u001b[0;32m~/anaconda3/envs/autokeras/lib/python3.7/site-packages/kerastuner/engine/hypermodel.py\u001b[0m in \u001b[0;36mbuild\u001b[0;34m(self, hp)\u001b[0m\n\u001b[1;32m    113\u001b[0m                 \u001b[0;32mif\u001b[0m \u001b[0mi\u001b[0m \u001b[0;34m==\u001b[0m \u001b[0mself\u001b[0m\u001b[0;34m.\u001b[0m\u001b[0m_max_fail_streak\u001b[0m\u001b[0;34m:\u001b[0m\u001b[0;34m\u001b[0m\u001b[0;34m\u001b[0m\u001b[0m\n\u001b[1;32m    114\u001b[0m                     raise RuntimeError(\n\u001b[0;32m--> 115\u001b[0;31m                         'Too many failed attempts to build model.')\n\u001b[0m\u001b[1;32m    116\u001b[0m                 \u001b[0;32mcontinue\u001b[0m\u001b[0;34m\u001b[0m\u001b[0;34m\u001b[0m\u001b[0m\n\u001b[1;32m    117\u001b[0m \u001b[0;34m\u001b[0m\u001b[0m\n",
      "\u001b[0;31mRuntimeError\u001b[0m: Too many failed attempts to build model."
     ]
    }
   ],
   "source": [
    "import autokeras as ak\n",
    "\n",
    "# Initialize the text classifier.\n",
    "clf = ak.TextRegressor(max_trials=200, overwrite=False, metrics=\"correlation_coefficient\")\n",
    "# Feed the text classifier with training data.\n",
    "clf.fit(x_train, y_train)\n",
    "# Predict with the best model.\n",
    "predicted_y = clf.predict(x_test)\n",
    "# Evaluate the best model with testing data.\n",
    "print(clf.evaluate(x_test, y_test))"
   ]
  },
  {
   "cell_type": "code",
   "execution_count": 5,
   "metadata": {},
   "outputs": [
    {
     "name": "stdout",
     "output_type": "stream",
     "text": [
      "WARNING:tensorflow:Unresolved object in checkpoint: (root).optimizer.iter\n",
      "WARNING:tensorflow:Unresolved object in checkpoint: (root).optimizer.beta_1\n",
      "WARNING:tensorflow:Unresolved object in checkpoint: (root).optimizer.beta_2\n",
      "WARNING:tensorflow:Unresolved object in checkpoint: (root).optimizer.decay\n",
      "WARNING:tensorflow:Unresolved object in checkpoint: (root).optimizer.learning_rate\n",
      "WARNING:tensorflow:A checkpoint was restored (e.g. tf.train.Checkpoint.restore or tf.keras.Model.load_weights) but not all checkpointed values were used. See above for specific issues. Use expect_partial() on the load status object, e.g. tf.train.Checkpoint.restore(...).expect_partial(), to silence these warnings, or use assert_consumed() to make the check explicit. See https://www.tensorflow.org/guide/checkpoint#loading_mechanics for details.\n",
      "WARNING:tensorflow:Unresolved object in checkpoint: (root).optimizer.iter\n",
      "WARNING:tensorflow:Unresolved object in checkpoint: (root).optimizer.beta_1\n",
      "WARNING:tensorflow:Unresolved object in checkpoint: (root).optimizer.beta_2\n",
      "WARNING:tensorflow:Unresolved object in checkpoint: (root).optimizer.decay\n",
      "WARNING:tensorflow:Unresolved object in checkpoint: (root).optimizer.learning_rate\n",
      "WARNING:tensorflow:A checkpoint was restored (e.g. tf.train.Checkpoint.restore or tf.keras.Model.load_weights) but not all checkpointed values were used. See above for specific issues. Use expect_partial() on the load status object, e.g. tf.train.Checkpoint.restore(...).expect_partial(), to silence these warnings, or use assert_consumed() to make the check explicit. See https://www.tensorflow.org/guide/checkpoint#loading_mechanics for details.\n"
     ]
    },
    {
     "data": {
      "text/plain": [
       "<tensorflow.python.keras.engine.training.Model at 0x7f17a1a08950>"
      ]
     },
     "execution_count": 5,
     "metadata": {},
     "output_type": "execute_result"
    }
   ],
   "source": [
    "clf.export_model()"
   ]
  },
  {
   "cell_type": "code",
   "execution_count": null,
   "metadata": {},
   "outputs": [],
   "source": []
  }
 ],
 "metadata": {
  "kernelspec": {
   "display_name": "Python 3",
   "language": "python",
   "name": "python3"
  },
  "language_info": {
   "codemirror_mode": {
    "name": "ipython",
    "version": 3
   },
   "file_extension": ".py",
   "mimetype": "text/x-python",
   "name": "python",
   "nbconvert_exporter": "python",
   "pygments_lexer": "ipython3",
   "version": "3.7.6"
  }
 },
 "nbformat": 4,
 "nbformat_minor": 2
}
